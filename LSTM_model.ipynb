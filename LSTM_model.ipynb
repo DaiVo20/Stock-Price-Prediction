{
 "metadata": {
  "language_info": {
   "codemirror_mode": {
    "name": "ipython",
    "version": 3
   },
   "file_extension": ".py",
   "mimetype": "text/x-python",
   "name": "python",
   "nbconvert_exporter": "python",
   "pygments_lexer": "ipython3",
   "version": "3.8.6"
  },
  "orig_nbformat": 2,
  "kernelspec": {
   "name": "python386jvsc74a57bd05d97ad4eda96f4e0dcd5ae4f97368654619500468c6147550d2a1b2a1881f9a5",
   "display_name": "Python 3.8.6 64-bit"
  },
  "metadata": {
   "interpreter": {
    "hash": "5d97ad4eda96f4e0dcd5ae4f97368654619500468c6147550d2a1b2a1881f9a5"
   }
  }
 },
 "nbformat": 4,
 "nbformat_minor": 2,
 "cells": [
  {
   "cell_type": "code",
   "execution_count": 1,
   "metadata": {},
   "outputs": [],
   "source": [
    "import math\n",
    "import numpy as np\n",
    "import pandas as pd\n",
    "import seaborn as sns\n",
    "import matplotlib.pyplot as plt\n",
    "%matplotlib inline\n",
    "sns.set_theme(style=\"ticks\", palette=\"pastel\")\n",
    "\n",
    "import tensorflow as tf\n",
    "from sklearn.metrics import mean_squared_error, mean_absolute_error\n",
    "\n",
    "import warnings\n",
    "warnings.filterwarnings('ignore')"
   ]
  },
  {
   "source": [
    "## Loading of dataset"
   ],
   "cell_type": "markdown",
   "metadata": {}
  },
  {
   "cell_type": "code",
   "execution_count": 2,
   "metadata": {},
   "outputs": [
    {
     "output_type": "execute_result",
     "data": {
      "text/plain": [
       "            Date       Open       High        Low      Close    Volume  \\\n",
       "0     1984-09-07    0.42388    0.42902    0.41874    0.42388  23220030   \n",
       "1     1984-09-10    0.42388    0.42516    0.41366    0.42134  18022532   \n",
       "2     1984-09-11    0.42516    0.43668    0.42516    0.42902  42498199   \n",
       "3     1984-09-12    0.42902    0.43157    0.41618    0.41618  37125801   \n",
       "4     1984-09-13    0.43927    0.44052    0.43927    0.43927  57822062   \n",
       "...          ...        ...        ...        ...        ...       ...   \n",
       "19581 2017-11-06  178.56000  180.45000  178.31000  180.17000  13275578   \n",
       "19582 2017-11-07  180.50000  180.74800  179.40300  180.25000  12903836   \n",
       "19583 2017-11-08  179.79000  180.35000  179.11000  179.56000  10467606   \n",
       "19584 2017-11-09  178.31000  179.40000  177.09000  179.30000  12602188   \n",
       "19585 2017-11-10  178.35000  179.10000  177.96000  178.46000  11060355   \n",
       "\n",
       "       OpenInt Stock  \n",
       "0            0  AAPL  \n",
       "1            0  AAPL  \n",
       "2            0  AAPL  \n",
       "3            0  AAPL  \n",
       "4            0  AAPL  \n",
       "...        ...   ...  \n",
       "19581        0    FB  \n",
       "19582        0    FB  \n",
       "19583        0    FB  \n",
       "19584        0    FB  \n",
       "19585        0    FB  \n",
       "\n",
       "[19586 rows x 8 columns]"
      ],
      "text/html": "<div>\n<style scoped>\n    .dataframe tbody tr th:only-of-type {\n        vertical-align: middle;\n    }\n\n    .dataframe tbody tr th {\n        vertical-align: top;\n    }\n\n    .dataframe thead th {\n        text-align: right;\n    }\n</style>\n<table border=\"1\" class=\"dataframe\">\n  <thead>\n    <tr style=\"text-align: right;\">\n      <th></th>\n      <th>Date</th>\n      <th>Open</th>\n      <th>High</th>\n      <th>Low</th>\n      <th>Close</th>\n      <th>Volume</th>\n      <th>OpenInt</th>\n      <th>Stock</th>\n    </tr>\n  </thead>\n  <tbody>\n    <tr>\n      <th>0</th>\n      <td>1984-09-07</td>\n      <td>0.42388</td>\n      <td>0.42902</td>\n      <td>0.41874</td>\n      <td>0.42388</td>\n      <td>23220030</td>\n      <td>0</td>\n      <td>AAPL</td>\n    </tr>\n    <tr>\n      <th>1</th>\n      <td>1984-09-10</td>\n      <td>0.42388</td>\n      <td>0.42516</td>\n      <td>0.41366</td>\n      <td>0.42134</td>\n      <td>18022532</td>\n      <td>0</td>\n      <td>AAPL</td>\n    </tr>\n    <tr>\n      <th>2</th>\n      <td>1984-09-11</td>\n      <td>0.42516</td>\n      <td>0.43668</td>\n      <td>0.42516</td>\n      <td>0.42902</td>\n      <td>42498199</td>\n      <td>0</td>\n      <td>AAPL</td>\n    </tr>\n    <tr>\n      <th>3</th>\n      <td>1984-09-12</td>\n      <td>0.42902</td>\n      <td>0.43157</td>\n      <td>0.41618</td>\n      <td>0.41618</td>\n      <td>37125801</td>\n      <td>0</td>\n      <td>AAPL</td>\n    </tr>\n    <tr>\n      <th>4</th>\n      <td>1984-09-13</td>\n      <td>0.43927</td>\n      <td>0.44052</td>\n      <td>0.43927</td>\n      <td>0.43927</td>\n      <td>57822062</td>\n      <td>0</td>\n      <td>AAPL</td>\n    </tr>\n    <tr>\n      <th>...</th>\n      <td>...</td>\n      <td>...</td>\n      <td>...</td>\n      <td>...</td>\n      <td>...</td>\n      <td>...</td>\n      <td>...</td>\n      <td>...</td>\n    </tr>\n    <tr>\n      <th>19581</th>\n      <td>2017-11-06</td>\n      <td>178.56000</td>\n      <td>180.45000</td>\n      <td>178.31000</td>\n      <td>180.17000</td>\n      <td>13275578</td>\n      <td>0</td>\n      <td>FB</td>\n    </tr>\n    <tr>\n      <th>19582</th>\n      <td>2017-11-07</td>\n      <td>180.50000</td>\n      <td>180.74800</td>\n      <td>179.40300</td>\n      <td>180.25000</td>\n      <td>12903836</td>\n      <td>0</td>\n      <td>FB</td>\n    </tr>\n    <tr>\n      <th>19583</th>\n      <td>2017-11-08</td>\n      <td>179.79000</td>\n      <td>180.35000</td>\n      <td>179.11000</td>\n      <td>179.56000</td>\n      <td>10467606</td>\n      <td>0</td>\n      <td>FB</td>\n    </tr>\n    <tr>\n      <th>19584</th>\n      <td>2017-11-09</td>\n      <td>178.31000</td>\n      <td>179.40000</td>\n      <td>177.09000</td>\n      <td>179.30000</td>\n      <td>12602188</td>\n      <td>0</td>\n      <td>FB</td>\n    </tr>\n    <tr>\n      <th>19585</th>\n      <td>2017-11-10</td>\n      <td>178.35000</td>\n      <td>179.10000</td>\n      <td>177.96000</td>\n      <td>178.46000</td>\n      <td>11060355</td>\n      <td>0</td>\n      <td>FB</td>\n    </tr>\n  </tbody>\n</table>\n<p>19586 rows × 8 columns</p>\n</div>"
     },
     "metadata": {},
     "execution_count": 2
    }
   ],
   "source": [
    "path_default = \"./data/stock_data.csv\"\n",
    "stock_data = pd.read_csv(path_default)\n",
    "stock_data['Date'] = pd.to_datetime(stock_data['Date'], format=\"%Y-%m-%d\")\n",
    "stock_data"
   ]
  },
  {
   "cell_type": "code",
   "execution_count": 3,
   "metadata": {},
   "outputs": [
    {
     "output_type": "stream",
     "name": "stdout",
     "text": [
      "['AAPL' 'TSLA' 'MSFT' 'FB']\n"
     ]
    }
   ],
   "source": [
    "companies = stock_data['Stock'].unique()\n",
    "print(companies)"
   ]
  },
  {
   "source": [
    "## Data Proprocessing"
   ],
   "cell_type": "markdown",
   "metadata": {}
  },
  {
   "cell_type": "code",
   "execution_count": 4,
   "metadata": {},
   "outputs": [
    {
     "output_type": "stream",
     "name": "stdout",
     "text": [
      "           Date      Close\n0    1984-09-07    0.42388\n1    1984-09-10    0.42134\n2    1984-09-11    0.42902\n3    1984-09-12    0.41618\n4    1984-09-13    0.43927\n...         ...        ...\n8359 2017-11-06  173.63000\n8360 2017-11-07  174.18000\n8361 2017-11-08  175.61000\n8362 2017-11-09  175.25000\n8363 2017-11-10  174.67000\n\n[8364 rows x 2 columns]\n            Date   Close\n8364  2010-06-28   17.00\n8365  2010-06-29   23.89\n8366  2010-06-30   23.83\n8367  2010-07-01   21.96\n8368  2010-07-02   19.20\n...          ...     ...\n10217 2017-11-06  302.78\n10218 2017-11-07  306.05\n10219 2017-11-08  304.31\n10220 2017-11-09  302.99\n10221 2017-11-10  302.99\n\n[1858 rows x 2 columns]\n            Date     Close\n10222 1986-03-13   0.07533\n10223 1986-03-14   0.07533\n10224 1986-03-17   0.07533\n10225 1986-03-18   0.07533\n10226 1986-03-19   0.07533\n...          ...       ...\n18200 2017-11-06  84.47000\n18201 2017-11-07  84.26000\n18202 2017-11-08  84.56000\n18203 2017-11-09  84.09000\n18204 2017-11-10  83.87000\n\n[7983 rows x 2 columns]\n            Date   Close\n18205 2012-05-18   38.23\n18206 2012-05-21   34.03\n18207 2012-05-22   31.00\n18208 2012-05-23   32.00\n18209 2012-05-24   33.03\n...          ...     ...\n19581 2017-11-06  180.17\n19582 2017-11-07  180.25\n19583 2017-11-08  179.56\n19584 2017-11-09  179.30\n19585 2017-11-10  178.46\n\n[1381 rows x 2 columns]\n"
     ]
    }
   ],
   "source": [
    "stocks ={}\n",
    "for i in companies:\n",
    "  stocks[i] = stock_data[stock_data['Stock'] == i][[\"Date\", \"Close\"]]\n",
    "  print(stocks[i])"
   ]
  },
  {
   "cell_type": "code",
   "execution_count": 10,
   "metadata": {},
   "outputs": [
    {
     "output_type": "error",
     "ename": "ValueError",
     "evalue": "cannot reshape array of size 8364 into shape (5,1)",
     "traceback": [
      "\u001b[1;31m---------------------------------------------------------------------------\u001b[0m",
      "\u001b[1;31mValueError\u001b[0m                                Traceback (most recent call last)",
      "\u001b[1;32m<ipython-input-10-f214c804972b>\u001b[0m in \u001b[0;36m<module>\u001b[1;34m\u001b[0m\n\u001b[1;32m----> 1\u001b[1;33m \u001b[0mprint\u001b[0m\u001b[1;33m(\u001b[0m\u001b[0mstocks\u001b[0m\u001b[1;33m[\u001b[0m\u001b[1;34m\"AAPL\"\u001b[0m\u001b[1;33m]\u001b[0m\u001b[1;33m[\u001b[0m\u001b[1;34m\"Close\"\u001b[0m\u001b[1;33m]\u001b[0m\u001b[1;33m.\u001b[0m\u001b[0mvalues\u001b[0m\u001b[1;33m.\u001b[0m\u001b[0mreshape\u001b[0m\u001b[1;33m(\u001b[0m\u001b[1;33m(\u001b[0m\u001b[1;33m-\u001b[0m\u001b[1;36m1\u001b[0m\u001b[1;33m,\u001b[0m\u001b[1;36m5\u001b[0m\u001b[1;33m,\u001b[0m\u001b[1;36m1\u001b[0m\u001b[1;33m)\u001b[0m\u001b[1;33m)\u001b[0m\u001b[1;33m)\u001b[0m\u001b[1;33m\u001b[0m\u001b[1;33m\u001b[0m\u001b[0m\n\u001b[0m",
      "\u001b[1;31mValueError\u001b[0m: cannot reshape array of size 8364 into shape (5,1)"
     ]
    }
   ],
   "source": [
    "print(stocks[\"AAPL\"][\"Close\"].values.reshape((-1,5,1)))"
   ]
  },
  {
   "cell_type": "code",
   "execution_count": null,
   "metadata": {},
   "outputs": [],
   "source": []
  }
 ]
}