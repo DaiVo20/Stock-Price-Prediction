{
  "nbformat": 4,
  "nbformat_minor": 0,
  "metadata": {
    "colab": {
      "name": "MovingAverage.ipynb",
      "provenance": [],
      "collapsed_sections": [],
      "authorship_tag": "ABX9TyPaHRz1OszRfb6PZMUZAvjI",
      "include_colab_link": true
    },
    "kernelspec": {
      "name": "python3",
      "display_name": "Python 3"
    },
    "language_info": {
      "name": "python"
    },
    "accelerator": "GPU"
  },
  "cells": [
    {
      "cell_type": "markdown",
      "metadata": {
        "id": "view-in-github",
        "colab_type": "text"
      },
      "source": [
        "<a href=\"https://colab.research.google.com/github/DaiVo20/Stock-Price-Prediction/blob/main/ARIMA.ipynb\" target=\"_parent\"><img src=\"https://colab.research.google.com/assets/colab-badge.svg\" alt=\"Open In Colab\"/></a>"
      ]
    },
    {
      "cell_type": "code",
      "metadata": {
        "id": "gSbsLNm-nWKS"
      },
      "source": [
        "import pandas as pd\n",
        "import numpy as np\n",
        "import matplotlib.pyplot as plt\n",
        "from statsmodels.tsa.arima_model import ARIMA\n",
        "from sklearn.metrics import mean_squared_error\n",
        "from math import sqrt\n",
        "from sklearn.model_selection import train_test_split\n",
        "%matplotlib inline\n"
      ],
      "execution_count": 39,
      "outputs": []
    },
    {
      "cell_type": "code",
      "metadata": {
        "id": "pYmXsi3-ngTd"
      },
      "source": [
        "dataset=pd.read_csv(\"/content/stock_data.csv\")"
      ],
      "execution_count": 5,
      "outputs": []
    },
    {
      "cell_type": "code",
      "metadata": {
        "id": "DbJzEE7x79cg"
      },
      "source": [
        "dataset['Date'] = pd.to_datetime(dataset['Date'])"
      ],
      "execution_count": 6,
      "outputs": []
    },
    {
      "cell_type": "code",
      "metadata": {
        "colab": {
          "base_uri": "https://localhost:8080/"
        },
        "id": "nWuHbZJH8pCL",
        "outputId": "e6f077c1-672e-413c-d8f8-d7f38c68c9b3"
      },
      "source": [
        "pd.DatetimeIndex(dataset['Date']).year"
      ],
      "execution_count": 32,
      "outputs": [
        {
          "output_type": "execute_result",
          "data": {
            "text/plain": [
              "Int64Index([1984, 1984, 1984, 1984, 1984, 1984, 1984, 1984, 1984, 1984,\n",
              "            ...\n",
              "            2017, 2017, 2017, 2017, 2017, 2017, 2017, 2017, 2017, 2017],\n",
              "           dtype='int64', name='Date', length=19586)"
            ]
          },
          "metadata": {
            "tags": []
          },
          "execution_count": 32
        }
      ]
    },
    {
      "cell_type": "code",
      "metadata": {
        "colab": {
          "base_uri": "https://localhost:8080/",
          "height": 198
        },
        "id": "7HJirG9NAMHT",
        "outputId": "9e8ebd16-190f-4834-82c6-688c24f19b77"
      },
      "source": [
        "data=dataset[['Date','Close','Stock']]\n",
        "data.head()"
      ],
      "execution_count": 7,
      "outputs": [
        {
          "output_type": "execute_result",
          "data": {
            "text/html": [
              "<div>\n",
              "<style scoped>\n",
              "    .dataframe tbody tr th:only-of-type {\n",
              "        vertical-align: middle;\n",
              "    }\n",
              "\n",
              "    .dataframe tbody tr th {\n",
              "        vertical-align: top;\n",
              "    }\n",
              "\n",
              "    .dataframe thead th {\n",
              "        text-align: right;\n",
              "    }\n",
              "</style>\n",
              "<table border=\"1\" class=\"dataframe\">\n",
              "  <thead>\n",
              "    <tr style=\"text-align: right;\">\n",
              "      <th></th>\n",
              "      <th>Date</th>\n",
              "      <th>Close</th>\n",
              "      <th>Stock</th>\n",
              "    </tr>\n",
              "  </thead>\n",
              "  <tbody>\n",
              "    <tr>\n",
              "      <th>0</th>\n",
              "      <td>1984-09-07</td>\n",
              "      <td>0.42388</td>\n",
              "      <td>AAPL</td>\n",
              "    </tr>\n",
              "    <tr>\n",
              "      <th>1</th>\n",
              "      <td>1984-09-10</td>\n",
              "      <td>0.42134</td>\n",
              "      <td>AAPL</td>\n",
              "    </tr>\n",
              "    <tr>\n",
              "      <th>2</th>\n",
              "      <td>1984-09-11</td>\n",
              "      <td>0.42902</td>\n",
              "      <td>AAPL</td>\n",
              "    </tr>\n",
              "    <tr>\n",
              "      <th>3</th>\n",
              "      <td>1984-09-12</td>\n",
              "      <td>0.41618</td>\n",
              "      <td>AAPL</td>\n",
              "    </tr>\n",
              "    <tr>\n",
              "      <th>4</th>\n",
              "      <td>1984-09-13</td>\n",
              "      <td>0.43927</td>\n",
              "      <td>AAPL</td>\n",
              "    </tr>\n",
              "  </tbody>\n",
              "</table>\n",
              "</div>"
            ],
            "text/plain": [
              "        Date    Close Stock\n",
              "0 1984-09-07  0.42388  AAPL\n",
              "1 1984-09-10  0.42134  AAPL\n",
              "2 1984-09-11  0.42902  AAPL\n",
              "3 1984-09-12  0.41618  AAPL\n",
              "4 1984-09-13  0.43927  AAPL"
            ]
          },
          "metadata": {
            "tags": []
          },
          "execution_count": 7
        }
      ]
    },
    {
      "cell_type": "code",
      "metadata": {
        "colab": {
          "base_uri": "https://localhost:8080/",
          "height": 438
        },
        "id": "UzlOVl7LaHd_",
        "outputId": "e412489d-6778-4b0f-eecb-f074cd9c5a46"
      },
      "source": [
        "data.set_index('Date')"
      ],
      "execution_count": 8,
      "outputs": [
        {
          "output_type": "execute_result",
          "data": {
            "text/html": [
              "<div>\n",
              "<style scoped>\n",
              "    .dataframe tbody tr th:only-of-type {\n",
              "        vertical-align: middle;\n",
              "    }\n",
              "\n",
              "    .dataframe tbody tr th {\n",
              "        vertical-align: top;\n",
              "    }\n",
              "\n",
              "    .dataframe thead th {\n",
              "        text-align: right;\n",
              "    }\n",
              "</style>\n",
              "<table border=\"1\" class=\"dataframe\">\n",
              "  <thead>\n",
              "    <tr style=\"text-align: right;\">\n",
              "      <th></th>\n",
              "      <th>Close</th>\n",
              "      <th>Stock</th>\n",
              "    </tr>\n",
              "    <tr>\n",
              "      <th>Date</th>\n",
              "      <th></th>\n",
              "      <th></th>\n",
              "    </tr>\n",
              "  </thead>\n",
              "  <tbody>\n",
              "    <tr>\n",
              "      <th>1984-09-07</th>\n",
              "      <td>0.42388</td>\n",
              "      <td>AAPL</td>\n",
              "    </tr>\n",
              "    <tr>\n",
              "      <th>1984-09-10</th>\n",
              "      <td>0.42134</td>\n",
              "      <td>AAPL</td>\n",
              "    </tr>\n",
              "    <tr>\n",
              "      <th>1984-09-11</th>\n",
              "      <td>0.42902</td>\n",
              "      <td>AAPL</td>\n",
              "    </tr>\n",
              "    <tr>\n",
              "      <th>1984-09-12</th>\n",
              "      <td>0.41618</td>\n",
              "      <td>AAPL</td>\n",
              "    </tr>\n",
              "    <tr>\n",
              "      <th>1984-09-13</th>\n",
              "      <td>0.43927</td>\n",
              "      <td>AAPL</td>\n",
              "    </tr>\n",
              "    <tr>\n",
              "      <th>...</th>\n",
              "      <td>...</td>\n",
              "      <td>...</td>\n",
              "    </tr>\n",
              "    <tr>\n",
              "      <th>2017-11-06</th>\n",
              "      <td>180.17000</td>\n",
              "      <td>FB</td>\n",
              "    </tr>\n",
              "    <tr>\n",
              "      <th>2017-11-07</th>\n",
              "      <td>180.25000</td>\n",
              "      <td>FB</td>\n",
              "    </tr>\n",
              "    <tr>\n",
              "      <th>2017-11-08</th>\n",
              "      <td>179.56000</td>\n",
              "      <td>FB</td>\n",
              "    </tr>\n",
              "    <tr>\n",
              "      <th>2017-11-09</th>\n",
              "      <td>179.30000</td>\n",
              "      <td>FB</td>\n",
              "    </tr>\n",
              "    <tr>\n",
              "      <th>2017-11-10</th>\n",
              "      <td>178.46000</td>\n",
              "      <td>FB</td>\n",
              "    </tr>\n",
              "  </tbody>\n",
              "</table>\n",
              "<p>19586 rows × 2 columns</p>\n",
              "</div>"
            ],
            "text/plain": [
              "                Close Stock\n",
              "Date                       \n",
              "1984-09-07    0.42388  AAPL\n",
              "1984-09-10    0.42134  AAPL\n",
              "1984-09-11    0.42902  AAPL\n",
              "1984-09-12    0.41618  AAPL\n",
              "1984-09-13    0.43927  AAPL\n",
              "...               ...   ...\n",
              "2017-11-06  180.17000    FB\n",
              "2017-11-07  180.25000    FB\n",
              "2017-11-08  179.56000    FB\n",
              "2017-11-09  179.30000    FB\n",
              "2017-11-10  178.46000    FB\n",
              "\n",
              "[19586 rows x 2 columns]"
            ]
          },
          "metadata": {
            "tags": []
          },
          "execution_count": 8
        }
      ]
    },
    {
      "cell_type": "code",
      "metadata": {
        "id": "lmQ8dnQGs9dd",
        "colab": {
          "base_uri": "https://localhost:8080/"
        },
        "outputId": "e2f3f9df-9bfb-478d-bfac-e1535a08893c"
      },
      "source": [
        "companies = data['Stock'].unique()\n",
        "companies"
      ],
      "execution_count": 9,
      "outputs": [
        {
          "output_type": "execute_result",
          "data": {
            "text/plain": [
              "array(['AAPL', 'TSLA', 'MSFT', 'FB'], dtype=object)"
            ]
          },
          "metadata": {
            "tags": []
          },
          "execution_count": 9
        }
      ]
    },
    {
      "cell_type": "code",
      "metadata": {
        "colab": {
          "base_uri": "https://localhost:8080/"
        },
        "id": "y1MreaZetGdr",
        "outputId": "882cb839-bcea-450b-a4a3-385d8601c621"
      },
      "source": [
        "stock ={}\n",
        "for i in companies:\n",
        "  stock[i] = data[dataset['Stock'] == i][[\"Date\", \"Close\"]]\n",
        "  print(stock[i])"
      ],
      "execution_count": 10,
      "outputs": [
        {
          "output_type": "stream",
          "text": [
            "           Date      Close\n",
            "0    1984-09-07    0.42388\n",
            "1    1984-09-10    0.42134\n",
            "2    1984-09-11    0.42902\n",
            "3    1984-09-12    0.41618\n",
            "4    1984-09-13    0.43927\n",
            "...         ...        ...\n",
            "8359 2017-11-06  173.63000\n",
            "8360 2017-11-07  174.18000\n",
            "8361 2017-11-08  175.61000\n",
            "8362 2017-11-09  175.25000\n",
            "8363 2017-11-10  174.67000\n",
            "\n",
            "[8364 rows x 2 columns]\n",
            "            Date   Close\n",
            "8364  2010-06-28   17.00\n",
            "8365  2010-06-29   23.89\n",
            "8366  2010-06-30   23.83\n",
            "8367  2010-07-01   21.96\n",
            "8368  2010-07-02   19.20\n",
            "...          ...     ...\n",
            "10217 2017-11-06  302.78\n",
            "10218 2017-11-07  306.05\n",
            "10219 2017-11-08  304.31\n",
            "10220 2017-11-09  302.99\n",
            "10221 2017-11-10  302.99\n",
            "\n",
            "[1858 rows x 2 columns]\n",
            "            Date     Close\n",
            "10222 1986-03-13   0.07533\n",
            "10223 1986-03-14   0.07533\n",
            "10224 1986-03-17   0.07533\n",
            "10225 1986-03-18   0.07533\n",
            "10226 1986-03-19   0.07533\n",
            "...          ...       ...\n",
            "18200 2017-11-06  84.47000\n",
            "18201 2017-11-07  84.26000\n",
            "18202 2017-11-08  84.56000\n",
            "18203 2017-11-09  84.09000\n",
            "18204 2017-11-10  83.87000\n",
            "\n",
            "[7983 rows x 2 columns]\n",
            "            Date   Close\n",
            "18205 2012-05-18   38.23\n",
            "18206 2012-05-21   34.03\n",
            "18207 2012-05-22   31.00\n",
            "18208 2012-05-23   32.00\n",
            "18209 2012-05-24   33.03\n",
            "...          ...     ...\n",
            "19581 2017-11-06  180.17\n",
            "19582 2017-11-07  180.25\n",
            "19583 2017-11-08  179.56\n",
            "19584 2017-11-09  179.30\n",
            "19585 2017-11-10  178.46\n",
            "\n",
            "[1381 rows x 2 columns]\n"
          ],
          "name": "stdout"
        }
      ]
    },
    {
      "cell_type": "code",
      "metadata": {
        "colab": {
          "base_uri": "https://localhost:8080/"
        },
        "id": "39waPPMrZQpo",
        "outputId": "9cea1b8e-a3f4-4a50-b116-3d7d2ba31f15"
      },
      "source": [
        "stock['AAPL'].Close"
      ],
      "execution_count": 11,
      "outputs": [
        {
          "output_type": "execute_result",
          "data": {
            "text/plain": [
              "0         0.42388\n",
              "1         0.42134\n",
              "2         0.42902\n",
              "3         0.41618\n",
              "4         0.43927\n",
              "          ...    \n",
              "8359    173.63000\n",
              "8360    174.18000\n",
              "8361    175.61000\n",
              "8362    175.25000\n",
              "8363    174.67000\n",
              "Name: Close, Length: 8364, dtype: float64"
            ]
          },
          "metadata": {
            "tags": []
          },
          "execution_count": 11
        }
      ]
    },
    {
      "cell_type": "code",
      "metadata": {
        "id": "YMlelPLFaei1"
      },
      "source": [
        "AAPL_train=stock['AAPL'][pd.DatetimeIndex(stock['AAPL']['Date']).year<2017]"
      ],
      "execution_count": 18,
      "outputs": []
    },
    {
      "cell_type": "code",
      "metadata": {
        "id": "Zz1w9SWFcY9s"
      },
      "source": [
        "AAPL_test=stock['AAPL'][pd.DatetimeIndex(stock['AAPL']['Date']).year>=2017]"
      ],
      "execution_count": 17,
      "outputs": []
    },
    {
      "cell_type": "code",
      "metadata": {
        "id": "QOAU5hdXiIPa"
      },
      "source": [
        "predictions = list()"
      ],
      "execution_count": 16,
      "outputs": []
    },
    {
      "cell_type": "code",
      "metadata": {
        "id": "fN0LJfmAjNtX"
      },
      "source": [
        "AAPL_test=AAPL_test['Close'].values\n",
        "AAPL_train=AAPL_train['Close'].values"
      ],
      "execution_count": 33,
      "outputs": []
    },
    {
      "cell_type": "code",
      "metadata": {
        "id": "K2KpYDzml7oe"
      },
      "source": [
        "history = [x for x in AAPL_train]"
      ],
      "execution_count": 36,
      "outputs": []
    },
    {
      "cell_type": "code",
      "metadata": {
        "colab": {
          "base_uri": "https://localhost:8080/"
        },
        "id": "_vT3LaUNhvrF",
        "outputId": "5a9fe060-a9fc-484f-df4a-1073534fc98c"
      },
      "source": [
        "for t in range(len(AAPL_test)):\n",
        "\tmodel = ARIMA(history, order=(5,1,0))\n",
        "\tmodel_fit = model.fit()\n",
        "\toutput = model_fit.forecast()\n",
        "\tyhat = output[0]\n",
        "\tpredictions.append(yhat)\n",
        "\tobs = AAPL_test[t]\n",
        "\thistory.append(obs)\n",
        "\tprint('predicted=%f, expected=%f' % (yhat, obs))"
      ],
      "execution_count": 37,
      "outputs": [
        {
          "output_type": "stream",
          "text": [
            "predicted=113.994443, expected=114.310000\n",
            "predicted=114.335201, expected=114.190000\n",
            "predicted=114.226411, expected=114.770000\n",
            "predicted=114.789998, expected=116.040000\n",
            "predicted=116.092931, expected=117.110000\n",
            "predicted=117.098488, expected=117.230000\n",
            "predicted=117.197953, expected=117.860000\n",
            "predicted=117.852617, expected=117.370000\n",
            "predicted=117.331538, expected=117.160000\n",
            "predicted=117.142694, expected=118.100000\n",
            "predicted=118.151230, expected=118.090000\n",
            "predicted=118.072692, expected=117.890000\n",
            "predicted=117.889441, expected=118.100000\n",
            "predicted=118.132042, expected=118.190000\n",
            "predicted=118.185716, expected=118.070000\n",
            "predicted=118.075106, expected=119.950000\n",
            "predicted=120.012532, expected=120.010000\n",
            "predicted=119.981987, expected=120.020000\n",
            "predicted=119.988664, expected=119.700000\n",
            "predicted=119.714739, expected=119.430000\n",
            "predicted=119.404178, expected=126.700000\n",
            "predicted=126.884257, expected=126.500000\n",
            "predicted=126.346677, expected=127.030000\n",
            "predicted=126.898383, expected=128.230000\n",
            "predicted=128.286049, expected=129.440000\n",
            "predicted=129.312342, expected=129.950000\n",
            "predicted=129.933516, expected=130.890000\n",
            "predicted=130.889953, expected=130.600000\n",
            "predicted=130.566593, expected=131.750000\n",
            "predicted=131.762109, expected=133.450000\n",
            "predicted=133.483212, expected=133.940000\n",
            "predicted=133.894254, expected=133.780000\n",
            "predicted=133.762229, expected=134.150000\n",
            "predicted=134.161853, expected=135.120000\n",
            "predicted=135.131298, expected=135.530000\n",
            "predicted=135.520665, expected=134.920000\n",
            "predicted=134.901397, expected=135.080000\n",
            "predicted=135.106658, expected=135.350000\n",
            "predicted=135.369185, expected=135.410000\n",
            "predicted=135.409178, expected=138.180000\n",
            "predicted=138.263100, expected=137.360000\n",
            "predicted=137.300280, expected=138.170000\n",
            "predicted=138.165862, expected=137.730000\n",
            "predicted=137.754300, expected=137.910000\n",
            "predicted=137.878786, expected=137.400000\n",
            "predicted=137.428930, expected=137.080000\n",
            "predicted=137.082014, expected=137.540000\n",
            "predicted=137.590636, expected=137.600000\n",
            "predicted=137.609470, expected=137.390000\n",
            "predicted=137.398143, expected=138.830000\n",
            "predicted=138.888446, expected=139.060000\n",
            "predicted=139.051117, expected=138.360000\n",
            "predicted=138.328518, expected=139.830000\n",
            "predicted=139.900083, expected=138.230000\n",
            "predicted=138.179025, expected=139.790000\n",
            "predicted=139.832793, expected=139.290000\n",
            "predicted=139.317677, expected=139.010000\n",
            "predicted=138.972539, expected=139.250000\n",
            "predicted=139.317265, expected=142.140000\n",
            "predicted=142.185953, expected=142.460000\n",
            "predicted=142.430172, expected=142.270000\n",
            "predicted=142.228586, expected=142.000000\n",
            "predicted=142.026111, expected=142.040000\n",
            "predicted=142.025280, expected=143.100000\n",
            "predicted=143.136875, expected=142.360000\n",
            "predicted=142.343309, expected=142.000000\n",
            "predicted=142.008824, expected=141.680000\n",
            "predicted=141.719761, expected=141.510000\n",
            "predicted=141.517175, expected=140.000000\n",
            "predicted=140.006064, expected=140.170000\n",
            "predicted=140.225906, expected=139.420000\n",
            "predicted=139.452283, expected=140.200000\n",
            "predicted=140.234318, expected=139.570000\n",
            "predicted=139.599549, expected=139.050000\n",
            "predicted=139.045770, expected=140.790000\n",
            "predicted=140.878307, expected=140.630000\n",
            "predicted=140.605679, expected=141.980000\n",
            "predicted=141.997196, expected=142.870000\n",
            "predicted=142.901909, expected=142.020000\n",
            "predicted=141.954680, expected=142.130000\n",
            "predicted=142.159577, expected=141.990000\n",
            "predicted=142.005511, expected=144.890000\n",
            "predicted=144.944286, expected=145.810000\n",
            "predicted=145.806192, expected=145.370000\n",
            "predicted=145.303866, expected=144.840000\n",
            "predicted=144.859229, expected=147.240000\n",
            "predicted=147.293607, expected=151.240000\n",
            "predicted=151.295385, expected=152.210000\n",
            "predicted=152.124858, expected=151.490000\n",
            "predicted=151.420535, expected=152.800000\n",
            "predicted=152.867576, expected=154.930000\n",
            "predicted=154.969347, expected=154.530000\n",
            "predicted=154.455748, expected=154.310000\n",
            "predicted=154.317417, expected=149.120000\n",
            "predicted=149.045879, expected=151.400000\n",
            "predicted=151.552559, expected=151.910000\n",
            "predicted=152.004528, expected=152.840000\n",
            "predicted=152.748524, expected=152.650000\n",
            "predicted=152.693670, expected=152.190000\n",
            "predicted=152.177430, expected=152.720000\n",
            "predicted=152.772373, expected=152.460000\n",
            "predicted=152.467237, expected=152.520000\n",
            "predicted=152.527797, expected=151.610000\n",
            "predicted=151.624393, expected=152.030000\n",
            "predicted=152.067680, expected=154.290000\n",
            "predicted=154.368048, expected=152.780000\n",
            "predicted=152.702895, expected=153.300000\n",
            "predicted=153.316171, expected=154.210000\n",
            "predicted=154.295060, expected=153.830000\n",
            "predicted=153.783922, expected=147.870000\n",
            "predicted=147.781687, expected=144.330000\n",
            "predicted=144.406527, expected=145.500000\n",
            "predicted=145.761312, expected=144.070000\n",
            "predicted=144.012777, expected=143.220000\n",
            "predicted=143.208739, expected=141.200000\n",
            "predicted=141.248271, expected=145.250000\n",
            "predicted=145.384697, expected=143.920000\n",
            "predicted=143.861988, expected=144.780000\n",
            "predicted=144.715121, expected=144.540000\n",
            "predicted=144.668196, expected=145.190000\n",
            "predicted=145.140370, expected=144.730000\n",
            "predicted=144.762393, expected=142.660000\n",
            "predicted=142.617134, expected=144.740000\n",
            "predicted=144.866124, expected=142.610000\n",
            "predicted=142.582043, expected=142.950000\n",
            "predicted=142.927833, expected=142.430000\n",
            "predicted=142.540276, expected=143.020000\n",
            "predicted=142.987735, expected=141.660000\n",
            "predicted=141.681972, expected=143.110000\n",
            "predicted=143.146954, expected=143.970000\n",
            "predicted=144.025244, expected=144.440000\n",
            "predicted=144.379332, expected=144.650000\n",
            "predicted=144.687263, expected=146.660000\n",
            "predicted=146.701632, expected=147.930000\n",
            "predicted=147.931839, expected=148.440000\n",
            "predicted=148.398716, expected=148.950000\n",
            "predicted=148.984324, expected=149.890000\n",
            "predicted=149.915687, expected=149.210000\n",
            "predicted=149.187166, expected=149.140000\n",
            "predicted=149.154395, expected=150.960000\n",
            "predicted=151.044452, expected=151.600000\n",
            "predicted=151.573564, expected=152.310000\n",
            "predicted=152.295044, expected=149.430000\n",
            "predicted=149.413388, expected=148.390000\n",
            "predicted=148.422483, expected=147.620000\n",
            "predicted=147.721113, expected=148.920000\n",
            "predicted=148.927753, expected=155.970000\n",
            "predicted=156.138030, expected=154.400000\n",
            "predicted=154.207479, expected=155.220000\n",
            "predicted=155.122675, expected=157.620000\n",
            "predicted=157.819330, expected=158.880000\n",
            "predicted=158.779546, expected=159.860000\n",
            "predicted=159.846957, expected=154.760000\n",
            "predicted=154.683427, expected=156.920000\n",
            "predicted=157.065754, expected=159.280000\n",
            "predicted=159.426931, expected=161.020000\n",
            "predicted=160.851592, expected=160.370000\n",
            "predicted=160.325175, expected=157.290000\n",
            "predicted=157.283149, expected=156.940000\n",
            "predicted=157.089467, expected=156.650000\n",
            "predicted=156.753807, expected=159.210000\n",
            "predicted=159.225583, expected=159.410000\n",
            "predicted=159.358244, expected=158.700000\n",
            "predicted=158.617197, expected=159.290000\n",
            "predicted=159.377376, expected=160.890000\n",
            "predicted=160.963053, expected=162.330000\n",
            "predicted=162.306195, expected=162.760000\n",
            "predicted=162.712678, expected=163.410000\n",
            "predicted=163.425580, expected=163.460000\n",
            "predicted=163.493539, expected=161.500000\n",
            "predicted=161.481307, expected=161.330000\n",
            "predicted=161.406475, expected=160.680000\n",
            "predicted=160.755196, expected=158.060000\n",
            "predicted=158.012529, expected=160.920000\n",
            "predicted=161.052256, expected=160.280000\n",
            "predicted=160.285666, expected=159.080000\n",
            "predicted=158.966195, expected=157.710000\n",
            "predicted=157.791699, expected=159.310000\n",
            "predicted=159.423424, expected=158.100000\n",
            "predicted=158.074796, expected=158.160000\n",
            "predicted=158.130433, expected=155.510000\n",
            "predicted=155.551651, expected=152.840000\n",
            "predicted=152.856310, expected=151.350000\n",
            "predicted=151.469482, expected=150.010000\n",
            "predicted=150.051318, expected=152.590000\n",
            "predicted=152.660961, expected=153.680000\n",
            "predicted=153.661540, expected=152.730000\n",
            "predicted=152.596913, expected=153.570000\n",
            "predicted=153.633418, expected=153.260000\n",
            "predicted=153.315345, expected=153.920000\n",
            "predicted=153.922057, expected=152.930000\n",
            "predicted=152.935675, expected=154.830000\n",
            "predicted=154.881593, expected=154.740000\n",
            "predicted=154.756228, expected=155.280000\n",
            "predicted=155.237922, expected=155.340000\n",
            "predicted=155.381938, expected=155.990000\n",
            "predicted=156.010069, expected=155.440000\n",
            "predicted=155.443866, expected=156.430000\n",
            "predicted=156.461330, expected=159.310000\n",
            "predicted=159.387578, expected=159.900000\n",
            "predicted=159.831652, expected=159.190000\n",
            "predicted=159.115470, expected=155.420000\n",
            "predicted=155.424593, expected=155.690000\n",
            "predicted=155.848491, expected=155.610000\n",
            "predicted=155.733162, expected=156.540000\n",
            "predicted=156.494372, expected=155.850000\n",
            "predicted=155.823126, expected=156.850000\n",
            "predicted=156.870576, expected=162.470000\n",
            "predicted=162.615846, expected=166.120000\n",
            "predicted=166.064301, expected=168.430000\n",
            "predicted=168.283651, expected=166.290000\n",
            "predicted=166.194530, expected=167.510000\n",
            "predicted=167.637087, expected=171.880000\n",
            "predicted=172.162361, expected=173.630000\n",
            "predicted=173.543524, expected=174.180000\n",
            "predicted=174.044083, expected=175.610000\n",
            "predicted=175.743501, expected=175.250000\n",
            "predicted=175.319220, expected=174.670000\n"
          ],
          "name": "stdout"
        }
      ]
    }
  ]
}