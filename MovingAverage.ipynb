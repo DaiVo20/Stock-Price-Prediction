{
  "nbformat": 4,
  "nbformat_minor": 0,
  "metadata": {
    "colab": {
      "name": "MovingAverage.ipynb",
      "provenance": [],
      "collapsed_sections": [],
      "authorship_tag": "ABX9TyN5SefZWYXt4vgeg23WdQyw",
      "include_colab_link": true
    },
    "kernelspec": {
      "name": "python3",
      "display_name": "Python 3"
    },
    "language_info": {
      "name": "python"
    },
    "accelerator": "GPU"
  },
  "cells": [
    {
      "cell_type": "markdown",
      "metadata": {
        "id": "view-in-github",
        "colab_type": "text"
      },
      "source": [
        "<a href=\"https://colab.research.google.com/github/DaiVo20/Stock-Price-Prediction/blob/main/MovingAverage.ipynb\" target=\"_parent\"><img src=\"https://colab.research.google.com/assets/colab-badge.svg\" alt=\"Open In Colab\"/></a>"
      ]
    },
    {
      "cell_type": "code",
      "metadata": {
        "id": "gSbsLNm-nWKS"
      },
      "source": [
        "import pandas as pd\n",
        "import numpy as np\n",
        "import matplotlib.pyplot as plt\n",
        "from statsmodels.tsa.arima_model import ARMA"
      ],
      "execution_count": null,
      "outputs": []
    },
    {
      "cell_type": "code",
      "metadata": {
        "id": "pYmXsi3-ngTd"
      },
      "source": [
        "#set Dates col as index col\n",
        "dataset=pd.read_csv(\"/content/stock_data.csv\", parse_dates=['Date'], index_col=[0])\n"
      ],
      "execution_count": 49,
      "outputs": []
    },
    {
      "cell_type": "code",
      "metadata": {
        "colab": {
          "base_uri": "https://localhost:8080/",
          "height": 228
        },
        "id": "RL9GOe0-5Gw7",
        "outputId": "258a6658-0eb6-4f04-fa3e-9985e2e19b5b"
      },
      "source": [
        "dataset.head()"
      ],
      "execution_count": 50,
      "outputs": [
        {
          "output_type": "execute_result",
          "data": {
            "text/html": [
              "<div>\n",
              "<style scoped>\n",
              "    .dataframe tbody tr th:only-of-type {\n",
              "        vertical-align: middle;\n",
              "    }\n",
              "\n",
              "    .dataframe tbody tr th {\n",
              "        vertical-align: top;\n",
              "    }\n",
              "\n",
              "    .dataframe thead th {\n",
              "        text-align: right;\n",
              "    }\n",
              "</style>\n",
              "<table border=\"1\" class=\"dataframe\">\n",
              "  <thead>\n",
              "    <tr style=\"text-align: right;\">\n",
              "      <th></th>\n",
              "      <th>Open</th>\n",
              "      <th>High</th>\n",
              "      <th>Low</th>\n",
              "      <th>Close</th>\n",
              "      <th>Volume</th>\n",
              "      <th>OpenInt</th>\n",
              "      <th>Stock</th>\n",
              "    </tr>\n",
              "    <tr>\n",
              "      <th>Date</th>\n",
              "      <th></th>\n",
              "      <th></th>\n",
              "      <th></th>\n",
              "      <th></th>\n",
              "      <th></th>\n",
              "      <th></th>\n",
              "      <th></th>\n",
              "    </tr>\n",
              "  </thead>\n",
              "  <tbody>\n",
              "    <tr>\n",
              "      <th>1984-09-07</th>\n",
              "      <td>0.42388</td>\n",
              "      <td>0.42902</td>\n",
              "      <td>0.41874</td>\n",
              "      <td>0.42388</td>\n",
              "      <td>23220030</td>\n",
              "      <td>0</td>\n",
              "      <td>AAPL</td>\n",
              "    </tr>\n",
              "    <tr>\n",
              "      <th>1984-09-10</th>\n",
              "      <td>0.42388</td>\n",
              "      <td>0.42516</td>\n",
              "      <td>0.41366</td>\n",
              "      <td>0.42134</td>\n",
              "      <td>18022532</td>\n",
              "      <td>0</td>\n",
              "      <td>AAPL</td>\n",
              "    </tr>\n",
              "    <tr>\n",
              "      <th>1984-09-11</th>\n",
              "      <td>0.42516</td>\n",
              "      <td>0.43668</td>\n",
              "      <td>0.42516</td>\n",
              "      <td>0.42902</td>\n",
              "      <td>42498199</td>\n",
              "      <td>0</td>\n",
              "      <td>AAPL</td>\n",
              "    </tr>\n",
              "    <tr>\n",
              "      <th>1984-09-12</th>\n",
              "      <td>0.42902</td>\n",
              "      <td>0.43157</td>\n",
              "      <td>0.41618</td>\n",
              "      <td>0.41618</td>\n",
              "      <td>37125801</td>\n",
              "      <td>0</td>\n",
              "      <td>AAPL</td>\n",
              "    </tr>\n",
              "    <tr>\n",
              "      <th>1984-09-13</th>\n",
              "      <td>0.43927</td>\n",
              "      <td>0.44052</td>\n",
              "      <td>0.43927</td>\n",
              "      <td>0.43927</td>\n",
              "      <td>57822062</td>\n",
              "      <td>0</td>\n",
              "      <td>AAPL</td>\n",
              "    </tr>\n",
              "  </tbody>\n",
              "</table>\n",
              "</div>"
            ],
            "text/plain": [
              "               Open     High      Low    Close    Volume  OpenInt Stock\n",
              "Date                                                                   \n",
              "1984-09-07  0.42388  0.42902  0.41874  0.42388  23220030        0  AAPL\n",
              "1984-09-10  0.42388  0.42516  0.41366  0.42134  18022532        0  AAPL\n",
              "1984-09-11  0.42516  0.43668  0.42516  0.42902  42498199        0  AAPL\n",
              "1984-09-12  0.42902  0.43157  0.41618  0.41618  37125801        0  AAPL\n",
              "1984-09-13  0.43927  0.44052  0.43927  0.43927  57822062        0  AAPL"
            ]
          },
          "metadata": {
            "tags": []
          },
          "execution_count": 50
        }
      ]
    },
    {
      "cell_type": "code",
      "metadata": {
        "id": "24Lpbzc3C9Wo"
      },
      "source": [
        "#get a sub dataset containing Close and Stock col\n",
        "my_data=dataset[['Close','Stock']]"
      ],
      "execution_count": 51,
      "outputs": []
    },
    {
      "cell_type": "code",
      "metadata": {
        "colab": {
          "base_uri": "https://localhost:8080/",
          "height": 228
        },
        "id": "Ehrp3iPM9DWc",
        "outputId": "07245726-03a0-4e70-9267-d620badeca7e"
      },
      "source": [
        "my_data.head()"
      ],
      "execution_count": 52,
      "outputs": [
        {
          "output_type": "execute_result",
          "data": {
            "text/html": [
              "<div>\n",
              "<style scoped>\n",
              "    .dataframe tbody tr th:only-of-type {\n",
              "        vertical-align: middle;\n",
              "    }\n",
              "\n",
              "    .dataframe tbody tr th {\n",
              "        vertical-align: top;\n",
              "    }\n",
              "\n",
              "    .dataframe thead th {\n",
              "        text-align: right;\n",
              "    }\n",
              "</style>\n",
              "<table border=\"1\" class=\"dataframe\">\n",
              "  <thead>\n",
              "    <tr style=\"text-align: right;\">\n",
              "      <th></th>\n",
              "      <th>Close</th>\n",
              "      <th>Stock</th>\n",
              "    </tr>\n",
              "    <tr>\n",
              "      <th>Date</th>\n",
              "      <th></th>\n",
              "      <th></th>\n",
              "    </tr>\n",
              "  </thead>\n",
              "  <tbody>\n",
              "    <tr>\n",
              "      <th>1984-09-07</th>\n",
              "      <td>0.42388</td>\n",
              "      <td>AAPL</td>\n",
              "    </tr>\n",
              "    <tr>\n",
              "      <th>1984-09-10</th>\n",
              "      <td>0.42134</td>\n",
              "      <td>AAPL</td>\n",
              "    </tr>\n",
              "    <tr>\n",
              "      <th>1984-09-11</th>\n",
              "      <td>0.42902</td>\n",
              "      <td>AAPL</td>\n",
              "    </tr>\n",
              "    <tr>\n",
              "      <th>1984-09-12</th>\n",
              "      <td>0.41618</td>\n",
              "      <td>AAPL</td>\n",
              "    </tr>\n",
              "    <tr>\n",
              "      <th>1984-09-13</th>\n",
              "      <td>0.43927</td>\n",
              "      <td>AAPL</td>\n",
              "    </tr>\n",
              "  </tbody>\n",
              "</table>\n",
              "</div>"
            ],
            "text/plain": [
              "              Close Stock\n",
              "Date                     \n",
              "1984-09-07  0.42388  AAPL\n",
              "1984-09-10  0.42134  AAPL\n",
              "1984-09-11  0.42902  AAPL\n",
              "1984-09-12  0.41618  AAPL\n",
              "1984-09-13  0.43927  AAPL"
            ]
          },
          "metadata": {
            "tags": []
          },
          "execution_count": 52
        }
      ]
    },
    {
      "cell_type": "code",
      "metadata": {
        "colab": {
          "base_uri": "https://localhost:8080/",
          "height": 596
        },
        "id": "Gh-B9CBV5Z5h",
        "outputId": "d502b059-6d5f-48b8-c191-3eff1525742a"
      },
      "source": [
        "#Visualize Close values from past (AAPL)\n",
        "my_data[my_data['Stock']=='AAPL'].plot(figsize=(12,10), title='AAPL')"
      ],
      "execution_count": 62,
      "outputs": [
        {
          "output_type": "execute_result",
          "data": {
            "text/plain": [
              "<matplotlib.axes._subplots.AxesSubplot at 0x7f338169d210>"
            ]
          },
          "metadata": {
            "tags": []
          },
          "execution_count": 62
        },
        {
          "output_type": "display_data",
          "data": {
            "image/png": "[encoded data removed]",
            "text/plain": [
              "<Figure size 864x720 with 1 Axes>"
            ]
          },
          "metadata": {
            "tags": [],
            "needs_background": "light"
          }
        }
      ]
    },
    {
      "cell_type": "code",
      "metadata": {
        "colab": {
          "base_uri": "https://localhost:8080/",
          "height": 596
        },
        "id": "LNU4qHONBY98",
        "outputId": "13272732-084d-4b61-99c2-3dcb0b7af8de"
      },
      "source": [
        "#Visualize Close values from past (FB)\n",
        "my_data[my_data['Stock']=='FB'].plot(figsize=(12,10), title=\"FB\")"
      ],
      "execution_count": 61,
      "outputs": [
        {
          "output_type": "execute_result",
          "data": {
            "text/plain": [
              "<matplotlib.axes._subplots.AxesSubplot at 0x7f33816e33d0>"
            ]
          },
          "metadata": {
            "tags": []
          },
          "execution_count": 61
        },
        {
          "output_type": "display_data",
          "data": {
            "image/png": "[encoded data removed]",
            "text/plain": [
              "<Figure size 864x720 with 1 Axes>"
            ]
          },
          "metadata": {
            "tags": [],
            "needs_background": "light"
          }
        }
      ]
    },
    {
      "cell_type": "code",
      "metadata": {
        "id": "kvQUL3pu0WH9"
      },
      "source": [
        "#fisrt 70% data points are in training set\n",
        "n=70\n",
        "train_data=my_data.head(int(len(dataset)*(n/100)))"
      ],
      "execution_count": 63,
      "outputs": []
    },
    {
      "cell_type": "code",
      "metadata": {
        "id": "bYtx7Mm7_ZLE"
      },
      "source": [
        "#the rest are in test set\n",
        "m=30\n",
        "test_data=my_data.tail(int(len(dataset)*(m/100)))"
      ],
      "execution_count": 64,
      "outputs": []
    },
    {
      "cell_type": "code",
      "metadata": {
        "colab": {
          "base_uri": "https://localhost:8080/",
          "height": 438
        },
        "id": "iXj-ueTKDJZo",
        "outputId": "b463b852-2f4d-4c9e-90e6-1b7c77e74baa"
      },
      "source": [
        "train_data"
      ],
      "execution_count": 66,
      "outputs": [
        {
          "output_type": "execute_result",
          "data": {
            "text/html": [
              "<div>\n",
              "<style scoped>\n",
              "    .dataframe tbody tr th:only-of-type {\n",
              "        vertical-align: middle;\n",
              "    }\n",
              "\n",
              "    .dataframe tbody tr th {\n",
              "        vertical-align: top;\n",
              "    }\n",
              "\n",
              "    .dataframe thead th {\n",
              "        text-align: right;\n",
              "    }\n",
              "</style>\n",
              "<table border=\"1\" class=\"dataframe\">\n",
              "  <thead>\n",
              "    <tr style=\"text-align: right;\">\n",
              "      <th></th>\n",
              "      <th>Close</th>\n",
              "      <th>Stock</th>\n",
              "    </tr>\n",
              "    <tr>\n",
              "      <th>Date</th>\n",
              "      <th></th>\n",
              "      <th></th>\n",
              "    </tr>\n",
              "  </thead>\n",
              "  <tbody>\n",
              "    <tr>\n",
              "      <th>1984-09-07</th>\n",
              "      <td>0.42388</td>\n",
              "      <td>AAPL</td>\n",
              "    </tr>\n",
              "    <tr>\n",
              "      <th>1984-09-10</th>\n",
              "      <td>0.42134</td>\n",
              "      <td>AAPL</td>\n",
              "    </tr>\n",
              "    <tr>\n",
              "      <th>1984-09-11</th>\n",
              "      <td>0.42902</td>\n",
              "      <td>AAPL</td>\n",
              "    </tr>\n",
              "    <tr>\n",
              "      <th>1984-09-12</th>\n",
              "      <td>0.41618</td>\n",
              "      <td>AAPL</td>\n",
              "    </tr>\n",
              "    <tr>\n",
              "      <th>1984-09-13</th>\n",
              "      <td>0.43927</td>\n",
              "      <td>AAPL</td>\n",
              "    </tr>\n",
              "    <tr>\n",
              "      <th>...</th>\n",
              "      <td>...</td>\n",
              "      <td>...</td>\n",
              "    </tr>\n",
              "    <tr>\n",
              "      <th>1999-12-27</th>\n",
              "      <td>44.81400</td>\n",
              "      <td>MSFT</td>\n",
              "    </tr>\n",
              "    <tr>\n",
              "      <th>1999-12-28</th>\n",
              "      <td>44.20200</td>\n",
              "      <td>MSFT</td>\n",
              "    </tr>\n",
              "    <tr>\n",
              "      <th>1999-12-29</th>\n",
              "      <td>44.36900</td>\n",
              "      <td>MSFT</td>\n",
              "    </tr>\n",
              "    <tr>\n",
              "      <th>1999-12-30</th>\n",
              "      <td>44.25100</td>\n",
              "      <td>MSFT</td>\n",
              "    </tr>\n",
              "    <tr>\n",
              "      <th>1999-12-31</th>\n",
              "      <td>43.92700</td>\n",
              "      <td>MSFT</td>\n",
              "    </tr>\n",
              "  </tbody>\n",
              "</table>\n",
              "<p>13710 rows × 2 columns</p>\n",
              "</div>"
            ],
            "text/plain": [
              "               Close Stock\n",
              "Date                      \n",
              "1984-09-07   0.42388  AAPL\n",
              "1984-09-10   0.42134  AAPL\n",
              "1984-09-11   0.42902  AAPL\n",
              "1984-09-12   0.41618  AAPL\n",
              "1984-09-13   0.43927  AAPL\n",
              "...              ...   ...\n",
              "1999-12-27  44.81400  MSFT\n",
              "1999-12-28  44.20200  MSFT\n",
              "1999-12-29  44.36900  MSFT\n",
              "1999-12-30  44.25100  MSFT\n",
              "1999-12-31  43.92700  MSFT\n",
              "\n",
              "[13710 rows x 2 columns]"
            ]
          },
          "metadata": {
            "tags": []
          },
          "execution_count": 66
        }
      ]
    },
    {
      "cell_type": "code",
      "metadata": {
        "colab": {
          "base_uri": "https://localhost:8080/",
          "height": 438
        },
        "id": "zQrDaUepDSrc",
        "outputId": "f23e4f77-492b-42bd-e92d-45e0c87ec9df"
      },
      "source": [
        "test_data"
      ],
      "execution_count": 67,
      "outputs": [
        {
          "output_type": "execute_result",
          "data": {
            "text/html": [
              "<div>\n",
              "<style scoped>\n",
              "    .dataframe tbody tr th:only-of-type {\n",
              "        vertical-align: middle;\n",
              "    }\n",
              "\n",
              "    .dataframe tbody tr th {\n",
              "        vertical-align: top;\n",
              "    }\n",
              "\n",
              "    .dataframe thead th {\n",
              "        text-align: right;\n",
              "    }\n",
              "</style>\n",
              "<table border=\"1\" class=\"dataframe\">\n",
              "  <thead>\n",
              "    <tr style=\"text-align: right;\">\n",
              "      <th></th>\n",
              "      <th>Close</th>\n",
              "      <th>Stock</th>\n",
              "    </tr>\n",
              "    <tr>\n",
              "      <th>Date</th>\n",
              "      <th></th>\n",
              "      <th></th>\n",
              "    </tr>\n",
              "  </thead>\n",
              "  <tbody>\n",
              "    <tr>\n",
              "      <th>2000-01-04</th>\n",
              "      <td>42.373</td>\n",
              "      <td>MSFT</td>\n",
              "    </tr>\n",
              "    <tr>\n",
              "      <th>2000-01-05</th>\n",
              "      <td>42.818</td>\n",
              "      <td>MSFT</td>\n",
              "    </tr>\n",
              "    <tr>\n",
              "      <th>2000-01-06</th>\n",
              "      <td>41.386</td>\n",
              "      <td>MSFT</td>\n",
              "    </tr>\n",
              "    <tr>\n",
              "      <th>2000-01-07</th>\n",
              "      <td>41.921</td>\n",
              "      <td>MSFT</td>\n",
              "    </tr>\n",
              "    <tr>\n",
              "      <th>2000-01-10</th>\n",
              "      <td>42.230</td>\n",
              "      <td>MSFT</td>\n",
              "    </tr>\n",
              "    <tr>\n",
              "      <th>...</th>\n",
              "      <td>...</td>\n",
              "      <td>...</td>\n",
              "    </tr>\n",
              "    <tr>\n",
              "      <th>2017-11-06</th>\n",
              "      <td>180.170</td>\n",
              "      <td>FB</td>\n",
              "    </tr>\n",
              "    <tr>\n",
              "      <th>2017-11-07</th>\n",
              "      <td>180.250</td>\n",
              "      <td>FB</td>\n",
              "    </tr>\n",
              "    <tr>\n",
              "      <th>2017-11-08</th>\n",
              "      <td>179.560</td>\n",
              "      <td>FB</td>\n",
              "    </tr>\n",
              "    <tr>\n",
              "      <th>2017-11-09</th>\n",
              "      <td>179.300</td>\n",
              "      <td>FB</td>\n",
              "    </tr>\n",
              "    <tr>\n",
              "      <th>2017-11-10</th>\n",
              "      <td>178.460</td>\n",
              "      <td>FB</td>\n",
              "    </tr>\n",
              "  </tbody>\n",
              "</table>\n",
              "<p>5875 rows × 2 columns</p>\n",
              "</div>"
            ],
            "text/plain": [
              "              Close Stock\n",
              "Date                     \n",
              "2000-01-04   42.373  MSFT\n",
              "2000-01-05   42.818  MSFT\n",
              "2000-01-06   41.386  MSFT\n",
              "2000-01-07   41.921  MSFT\n",
              "2000-01-10   42.230  MSFT\n",
              "...             ...   ...\n",
              "2017-11-06  180.170    FB\n",
              "2017-11-07  180.250    FB\n",
              "2017-11-08  179.560    FB\n",
              "2017-11-09  179.300    FB\n",
              "2017-11-10  178.460    FB\n",
              "\n",
              "[5875 rows x 2 columns]"
            ]
          },
          "metadata": {
            "tags": []
          },
          "execution_count": 67
        }
      ]
    },
    {
      "cell_type": "code",
      "metadata": {
        "id": "08gg9pxTAJD_"
      },
      "source": [
        "model = ARMA(train_data['Close'], order=(0,1))"
      ],
      "execution_count": 15,
      "outputs": []
    },
    {
      "cell_type": "code",
      "metadata": {
        "id": "VKr5WW9aJUJH"
      },
      "source": [
        "model_fit = model.fit(disp=False)"
      ],
      "execution_count": 16,
      "outputs": []
    }
  ]
}