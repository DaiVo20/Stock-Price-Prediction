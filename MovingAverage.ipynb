{
  "nbformat": 4,
  "nbformat_minor": 0,
  "metadata": {
    "colab": {
      "name": "MovingAverage.ipynb",
      "provenance": [],
      "collapsed_sections": [],
      "authorship_tag": "ABX9TyNBWL4JVoFCMWbO/0uY60I+",
      "include_colab_link": true
    },
    "kernelspec": {
      "name": "python3",
      "display_name": "Python 3"
    },
    "language_info": {
      "name": "python"
    },
    "accelerator": "GPU"
  },
  "cells": [
    {
      "cell_type": "markdown",
      "metadata": {
        "id": "view-in-github",
        "colab_type": "text"
      },
      "source": [
        "<a href=\"https://colab.research.google.com/github/DaiVo20/Stock-Price-Prediction/blob/main/MovingAverage.ipynb\" target=\"_parent\"><img src=\"https://colab.research.google.com/assets/colab-badge.svg\" alt=\"Open In Colab\"/></a>"
      ]
    },
    {
      "cell_type": "code",
      "metadata": {
        "id": "gSbsLNm-nWKS",
        "colab": {
          "base_uri": "https://localhost:8080/"
        },
        "outputId": "01c677a7-7ff6-4e57-8985-53e970d62e4a"
      },
      "source": [
        "import pandas as pd\n",
        "import numpy as np\n",
        "import matplotlib.pyplot as plt\n",
        "from statsmodels.tsa.arima_model import ARMA"
      ],
      "execution_count": 3,
      "outputs": [
        {
          "output_type": "stream",
          "text": [
            "/usr/local/lib/python3.7/dist-packages/statsmodels/tools/_testing.py:19: FutureWarning: pandas.util.testing is deprecated. Use the functions in the public API at pandas.testing instead.\n",
            "  import pandas.util.testing as tm\n"
          ],
          "name": "stderr"
        }
      ]
    },
    {
      "cell_type": "code",
      "metadata": {
        "id": "pYmXsi3-ngTd"
      },
      "source": [
        "dataset=pd.read_csv(\"/content/stock_data.csv\", parse_dates=['Date'])\n"
      ],
      "execution_count": 5,
      "outputs": []
    },
    {
      "cell_type": "code",
      "metadata": {
        "colab": {
          "base_uri": "https://localhost:8080/"
        },
        "id": "5-HiltjGo3HR",
        "outputId": "b6eb363e-7b5b-406d-c984-f52a7eacf2ac"
      },
      "source": [
        "companies = dataset['Stock'].unique()\n",
        "print(companies)"
      ],
      "execution_count": 7,
      "outputs": [
        {
          "output_type": "stream",
          "text": [
            "['AAPL' 'TSLA' 'MSFT' 'FB']\n"
          ],
          "name": "stdout"
        }
      ]
    },
    {
      "cell_type": "code",
      "metadata": {
        "colab": {
          "base_uri": "https://localhost:8080/"
        },
        "id": "UvotaYZpogXO",
        "outputId": "5838a3d0-9ad7-4d28-ff5e-8516058cf2cc"
      },
      "source": [
        "stocks ={}\n",
        "for i in companies:\n",
        "  stocks[i] = dataset[dataset['Stock'] == i][[\"Date\", \"Close\"]]\n",
        "  print(stocks[i])"
      ],
      "execution_count": 8,
      "outputs": [
        {
          "output_type": "stream",
          "text": [
            "            Date      Close\n",
            "0     1984-09-07    0.42388\n",
            "1     1984-09-10    0.42134\n",
            "2     1984-09-11    0.42902\n",
            "3     1984-09-12    0.41618\n",
            "4     1984-09-13    0.43927\n",
            "...          ...        ...\n",
            "8359  2017-11-06  173.63000\n",
            "8360  2017-11-07  174.18000\n",
            "8361  2017-11-08  175.61000\n",
            "8362  2017-11-09  175.25000\n",
            "8363  2017-11-10  174.67000\n",
            "\n",
            "[8364 rows x 2 columns]\n",
            "             Date   Close\n",
            "8364   2010-06-28   17.00\n",
            "8365   2010-06-29   23.89\n",
            "8366   2010-06-30   23.83\n",
            "8367   2010-07-01   21.96\n",
            "8368   2010-07-02   19.20\n",
            "...           ...     ...\n",
            "10217  2017-11-06  302.78\n",
            "10218  2017-11-07  306.05\n",
            "10219  2017-11-08  304.31\n",
            "10220  2017-11-09  302.99\n",
            "10221  2017-11-10  302.99\n",
            "\n",
            "[1858 rows x 2 columns]\n",
            "             Date     Close\n",
            "10222  1986-03-13   0.07533\n",
            "10223  1986-03-14   0.07533\n",
            "10224  1986-03-17   0.07533\n",
            "10225  1986-03-18   0.07533\n",
            "10226  1986-03-19   0.07533\n",
            "...           ...       ...\n",
            "18200  2017-11-06  84.47000\n",
            "18201  2017-11-07  84.26000\n",
            "18202  2017-11-08  84.56000\n",
            "18203  2017-11-09  84.09000\n",
            "18204  2017-11-10  83.87000\n",
            "\n",
            "[7983 rows x 2 columns]\n",
            "             Date   Close\n",
            "18205  2012-05-18   38.23\n",
            "18206  2012-05-21   34.03\n",
            "18207  2012-05-22   31.00\n",
            "18208  2012-05-23   32.00\n",
            "18209  2012-05-24   33.03\n",
            "...           ...     ...\n",
            "19581  2017-11-06  180.17\n",
            "19582  2017-11-07  180.25\n",
            "19583  2017-11-08  179.56\n",
            "19584  2017-11-09  179.30\n",
            "19585  2017-11-10  178.46\n",
            "\n",
            "[1381 rows x 2 columns]\n"
          ],
          "name": "stdout"
        }
      ]
    },
    {
      "cell_type": "code",
      "metadata": {
        "id": "bP-k1EoxzUwE"
      },
      "source": [
        "#sort dataset by Date (past->now)\n",
        "dataset['Date'] =pd.to_datetime(dataset.Date)\n",
        "dataset.sort_values(by='Date')"
      ],
      "execution_count": null,
      "outputs": []
    },
    {
      "cell_type": "code",
      "metadata": {
        "id": "YCMEe6Qq6bC4"
      },
      "source": [
        "dataset.set_index('Date')"
      ],
      "execution_count": null,
      "outputs": []
    },
    {
      "cell_type": "code",
      "metadata": {
        "id": "24Lpbzc3C9Wo"
      },
      "source": [
        "my_data=dataset[['Date','Close']]"
      ],
      "execution_count": 8,
      "outputs": []
    },
    {
      "cell_type": "code",
      "metadata": {
        "colab": {
          "base_uri": "https://localhost:8080/",
          "height": 408
        },
        "id": "mTHQKB7-DS2f",
        "outputId": "4e208ed3-8941-4b13-eca4-10004f1b03aa"
      },
      "source": [
        "my_data"
      ],
      "execution_count": 9,
      "outputs": [
        {
          "output_type": "execute_result",
          "data": {
            "text/html": [
              "<div>\n",
              "<style scoped>\n",
              "    .dataframe tbody tr th:only-of-type {\n",
              "        vertical-align: middle;\n",
              "    }\n",
              "\n",
              "    .dataframe tbody tr th {\n",
              "        vertical-align: top;\n",
              "    }\n",
              "\n",
              "    .dataframe thead th {\n",
              "        text-align: right;\n",
              "    }\n",
              "</style>\n",
              "<table border=\"1\" class=\"dataframe\">\n",
              "  <thead>\n",
              "    <tr style=\"text-align: right;\">\n",
              "      <th></th>\n",
              "      <th>Date</th>\n",
              "      <th>Close</th>\n",
              "    </tr>\n",
              "  </thead>\n",
              "  <tbody>\n",
              "    <tr>\n",
              "      <th>0</th>\n",
              "      <td>1984-09-07</td>\n",
              "      <td>0.42388</td>\n",
              "    </tr>\n",
              "    <tr>\n",
              "      <th>1</th>\n",
              "      <td>1984-09-10</td>\n",
              "      <td>0.42134</td>\n",
              "    </tr>\n",
              "    <tr>\n",
              "      <th>2</th>\n",
              "      <td>1984-09-11</td>\n",
              "      <td>0.42902</td>\n",
              "    </tr>\n",
              "    <tr>\n",
              "      <th>3</th>\n",
              "      <td>1984-09-12</td>\n",
              "      <td>0.41618</td>\n",
              "    </tr>\n",
              "    <tr>\n",
              "      <th>4</th>\n",
              "      <td>1984-09-13</td>\n",
              "      <td>0.43927</td>\n",
              "    </tr>\n",
              "    <tr>\n",
              "      <th>...</th>\n",
              "      <td>...</td>\n",
              "      <td>...</td>\n",
              "    </tr>\n",
              "    <tr>\n",
              "      <th>19581</th>\n",
              "      <td>2017-11-06</td>\n",
              "      <td>180.17000</td>\n",
              "    </tr>\n",
              "    <tr>\n",
              "      <th>19582</th>\n",
              "      <td>2017-11-07</td>\n",
              "      <td>180.25000</td>\n",
              "    </tr>\n",
              "    <tr>\n",
              "      <th>19583</th>\n",
              "      <td>2017-11-08</td>\n",
              "      <td>179.56000</td>\n",
              "    </tr>\n",
              "    <tr>\n",
              "      <th>19584</th>\n",
              "      <td>2017-11-09</td>\n",
              "      <td>179.30000</td>\n",
              "    </tr>\n",
              "    <tr>\n",
              "      <th>19585</th>\n",
              "      <td>2017-11-10</td>\n",
              "      <td>178.46000</td>\n",
              "    </tr>\n",
              "  </tbody>\n",
              "</table>\n",
              "<p>19586 rows × 2 columns</p>\n",
              "</div>"
            ],
            "text/plain": [
              "            Date      Close\n",
              "0     1984-09-07    0.42388\n",
              "1     1984-09-10    0.42134\n",
              "2     1984-09-11    0.42902\n",
              "3     1984-09-12    0.41618\n",
              "4     1984-09-13    0.43927\n",
              "...          ...        ...\n",
              "19581 2017-11-06  180.17000\n",
              "19582 2017-11-07  180.25000\n",
              "19583 2017-11-08  179.56000\n",
              "19584 2017-11-09  179.30000\n",
              "19585 2017-11-10  178.46000\n",
              "\n",
              "[19586 rows x 2 columns]"
            ]
          },
          "metadata": {
            "tags": []
          },
          "execution_count": 9
        }
      ]
    },
    {
      "cell_type": "code",
      "metadata": {
        "colab": {
          "base_uri": "https://localhost:8080/",
          "height": 563
        },
        "id": "Gh-B9CBV5Z5h",
        "outputId": "cce74a73-1690-4600-d969-feef57ac170d"
      },
      "source": [
        "#Visualize Close values from past->now\n",
        "dataset['Close'].plot(figsize=(15,10))"
      ],
      "execution_count": 71,
      "outputs": [
        {
          "output_type": "execute_result",
          "data": {
            "text/plain": [
              "<matplotlib.axes._subplots.AxesSubplot at 0x7f98de609350>"
            ]
          },
          "metadata": {
            "tags": []
          },
          "execution_count": 71
        },
        {
          "output_type": "display_data",
          "data": {
            "image/png": "[encoded data removed]",
            "text/plain": [
              "<Figure size 1080x720 with 1 Axes>"
            ]
          },
          "metadata": {
            "tags": [],
            "needs_background": "light"
          }
        }
      ]
    },
    {
      "cell_type": "code",
      "metadata": {
        "colab": {
          "base_uri": "https://localhost:8080/",
          "height": 415
        },
        "id": "zzis78EbISMF",
        "outputId": "b5c42685-9778-4782-cfc3-299b4f096b5b"
      },
      "source": [
        "my_data.plot(x='Date', y='Close', figsize=(20,10))"
      ],
      "execution_count": 10,
      "outputs": [
        {
          "output_type": "execute_result",
          "data": {
            "text/plain": [
              "<matplotlib.axes._subplots.AxesSubplot at 0x7f339106a4d0>"
            ]
          },
          "metadata": {
            "tags": []
          },
          "execution_count": 10
        },
        {
          "output_type": "display_data",
          "data": {
            "image/png": "[encoded data removed]",
            "text/plain": [
              "<Figure size 1440x720 with 1 Axes>"
            ]
          },
          "metadata": {
            "tags": [],
            "needs_background": "light"
          }
        }
      ]
    },
    {
      "cell_type": "code",
      "metadata": {
        "id": "kvQUL3pu0WH9"
      },
      "source": [
        "n=70\n",
        "train_data=my_data.head(int(len(dataset)*(n/100)))"
      ],
      "execution_count": 11,
      "outputs": []
    },
    {
      "cell_type": "code",
      "metadata": {
        "id": "bYtx7Mm7_ZLE"
      },
      "source": [
        "m=30\n",
        "test_data=my_data.tail(int(len(dataset)*(m/100)))"
      ],
      "execution_count": 12,
      "outputs": []
    },
    {
      "cell_type": "code",
      "metadata": {
        "colab": {
          "base_uri": "https://localhost:8080/",
          "height": 408
        },
        "id": "eWXOa-KV_leC",
        "outputId": "60ca5d1e-a9b3-429f-aa39-f1dcf34aa794"
      },
      "source": [
        "test_data"
      ],
      "execution_count": 13,
      "outputs": [
        {
          "output_type": "execute_result",
          "data": {
            "text/html": [
              "<div>\n",
              "<style scoped>\n",
              "    .dataframe tbody tr th:only-of-type {\n",
              "        vertical-align: middle;\n",
              "    }\n",
              "\n",
              "    .dataframe tbody tr th {\n",
              "        vertical-align: top;\n",
              "    }\n",
              "\n",
              "    .dataframe thead th {\n",
              "        text-align: right;\n",
              "    }\n",
              "</style>\n",
              "<table border=\"1\" class=\"dataframe\">\n",
              "  <thead>\n",
              "    <tr style=\"text-align: right;\">\n",
              "      <th></th>\n",
              "      <th>Date</th>\n",
              "      <th>Close</th>\n",
              "    </tr>\n",
              "  </thead>\n",
              "  <tbody>\n",
              "    <tr>\n",
              "      <th>13711</th>\n",
              "      <td>2000-01-04</td>\n",
              "      <td>42.373</td>\n",
              "    </tr>\n",
              "    <tr>\n",
              "      <th>13712</th>\n",
              "      <td>2000-01-05</td>\n",
              "      <td>42.818</td>\n",
              "    </tr>\n",
              "    <tr>\n",
              "      <th>13713</th>\n",
              "      <td>2000-01-06</td>\n",
              "      <td>41.386</td>\n",
              "    </tr>\n",
              "    <tr>\n",
              "      <th>13714</th>\n",
              "      <td>2000-01-07</td>\n",
              "      <td>41.921</td>\n",
              "    </tr>\n",
              "    <tr>\n",
              "      <th>13715</th>\n",
              "      <td>2000-01-10</td>\n",
              "      <td>42.230</td>\n",
              "    </tr>\n",
              "    <tr>\n",
              "      <th>...</th>\n",
              "      <td>...</td>\n",
              "      <td>...</td>\n",
              "    </tr>\n",
              "    <tr>\n",
              "      <th>19581</th>\n",
              "      <td>2017-11-06</td>\n",
              "      <td>180.170</td>\n",
              "    </tr>\n",
              "    <tr>\n",
              "      <th>19582</th>\n",
              "      <td>2017-11-07</td>\n",
              "      <td>180.250</td>\n",
              "    </tr>\n",
              "    <tr>\n",
              "      <th>19583</th>\n",
              "      <td>2017-11-08</td>\n",
              "      <td>179.560</td>\n",
              "    </tr>\n",
              "    <tr>\n",
              "      <th>19584</th>\n",
              "      <td>2017-11-09</td>\n",
              "      <td>179.300</td>\n",
              "    </tr>\n",
              "    <tr>\n",
              "      <th>19585</th>\n",
              "      <td>2017-11-10</td>\n",
              "      <td>178.460</td>\n",
              "    </tr>\n",
              "  </tbody>\n",
              "</table>\n",
              "<p>5875 rows × 2 columns</p>\n",
              "</div>"
            ],
            "text/plain": [
              "            Date    Close\n",
              "13711 2000-01-04   42.373\n",
              "13712 2000-01-05   42.818\n",
              "13713 2000-01-06   41.386\n",
              "13714 2000-01-07   41.921\n",
              "13715 2000-01-10   42.230\n",
              "...          ...      ...\n",
              "19581 2017-11-06  180.170\n",
              "19582 2017-11-07  180.250\n",
              "19583 2017-11-08  179.560\n",
              "19584 2017-11-09  179.300\n",
              "19585 2017-11-10  178.460\n",
              "\n",
              "[5875 rows x 2 columns]"
            ]
          },
          "metadata": {
            "tags": []
          },
          "execution_count": 13
        }
      ]
    },
    {
      "cell_type": "code",
      "metadata": {
        "colab": {
          "base_uri": "https://localhost:8080/",
          "height": 408
        },
        "id": "ChpKiI7p_GWz",
        "outputId": "fceecd69-4cb7-493a-a8df-37f135d0ed61"
      },
      "source": [
        "train_data"
      ],
      "execution_count": 14,
      "outputs": [
        {
          "output_type": "execute_result",
          "data": {
            "text/html": [
              "<div>\n",
              "<style scoped>\n",
              "    .dataframe tbody tr th:only-of-type {\n",
              "        vertical-align: middle;\n",
              "    }\n",
              "\n",
              "    .dataframe tbody tr th {\n",
              "        vertical-align: top;\n",
              "    }\n",
              "\n",
              "    .dataframe thead th {\n",
              "        text-align: right;\n",
              "    }\n",
              "</style>\n",
              "<table border=\"1\" class=\"dataframe\">\n",
              "  <thead>\n",
              "    <tr style=\"text-align: right;\">\n",
              "      <th></th>\n",
              "      <th>Date</th>\n",
              "      <th>Close</th>\n",
              "    </tr>\n",
              "  </thead>\n",
              "  <tbody>\n",
              "    <tr>\n",
              "      <th>0</th>\n",
              "      <td>1984-09-07</td>\n",
              "      <td>0.42388</td>\n",
              "    </tr>\n",
              "    <tr>\n",
              "      <th>1</th>\n",
              "      <td>1984-09-10</td>\n",
              "      <td>0.42134</td>\n",
              "    </tr>\n",
              "    <tr>\n",
              "      <th>2</th>\n",
              "      <td>1984-09-11</td>\n",
              "      <td>0.42902</td>\n",
              "    </tr>\n",
              "    <tr>\n",
              "      <th>3</th>\n",
              "      <td>1984-09-12</td>\n",
              "      <td>0.41618</td>\n",
              "    </tr>\n",
              "    <tr>\n",
              "      <th>4</th>\n",
              "      <td>1984-09-13</td>\n",
              "      <td>0.43927</td>\n",
              "    </tr>\n",
              "    <tr>\n",
              "      <th>...</th>\n",
              "      <td>...</td>\n",
              "      <td>...</td>\n",
              "    </tr>\n",
              "    <tr>\n",
              "      <th>13705</th>\n",
              "      <td>1999-12-27</td>\n",
              "      <td>44.81400</td>\n",
              "    </tr>\n",
              "    <tr>\n",
              "      <th>13706</th>\n",
              "      <td>1999-12-28</td>\n",
              "      <td>44.20200</td>\n",
              "    </tr>\n",
              "    <tr>\n",
              "      <th>13707</th>\n",
              "      <td>1999-12-29</td>\n",
              "      <td>44.36900</td>\n",
              "    </tr>\n",
              "    <tr>\n",
              "      <th>13708</th>\n",
              "      <td>1999-12-30</td>\n",
              "      <td>44.25100</td>\n",
              "    </tr>\n",
              "    <tr>\n",
              "      <th>13709</th>\n",
              "      <td>1999-12-31</td>\n",
              "      <td>43.92700</td>\n",
              "    </tr>\n",
              "  </tbody>\n",
              "</table>\n",
              "<p>13710 rows × 2 columns</p>\n",
              "</div>"
            ],
            "text/plain": [
              "            Date     Close\n",
              "0     1984-09-07   0.42388\n",
              "1     1984-09-10   0.42134\n",
              "2     1984-09-11   0.42902\n",
              "3     1984-09-12   0.41618\n",
              "4     1984-09-13   0.43927\n",
              "...          ...       ...\n",
              "13705 1999-12-27  44.81400\n",
              "13706 1999-12-28  44.20200\n",
              "13707 1999-12-29  44.36900\n",
              "13708 1999-12-30  44.25100\n",
              "13709 1999-12-31  43.92700\n",
              "\n",
              "[13710 rows x 2 columns]"
            ]
          },
          "metadata": {
            "tags": []
          },
          "execution_count": 14
        }
      ]
    },
    {
      "cell_type": "code",
      "metadata": {
        "id": "08gg9pxTAJD_"
      },
      "source": [
        "model = ARMA(train_data['Close'], order=(0,1))"
      ],
      "execution_count": 15,
      "outputs": []
    },
    {
      "cell_type": "code",
      "metadata": {
        "id": "VKr5WW9aJUJH"
      },
      "source": [
        "model_fit = model.fit(disp=False)"
      ],
      "execution_count": 16,
      "outputs": []
    },
    {
      "cell_type": "code",
      "metadata": {
        "colab": {
          "base_uri": "https://localhost:8080/"
        },
        "id": "nBfUmoAs02eH",
        "outputId": "fa46e188-49d1-475d-bf15-f058ce1cb3d7"
      },
      "source": [
        ""
      ],
      "execution_count": 17,
      "outputs": [
        {
          "output_type": "stream",
          "text": [
            "const          35.464568\n",
            "ma.L1.Close     0.968837\n",
            "dtype: float64\n"
          ],
          "name": "stdout"
        }
      ]
    }
  ]
}